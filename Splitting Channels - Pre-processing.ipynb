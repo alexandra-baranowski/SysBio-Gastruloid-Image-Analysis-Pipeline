{
 "cells": [
  {
   "cell_type": "markdown",
   "metadata": {},
   "source": [
    "## Gastruloid Pipeline"
   ]
  },
  {
   "cell_type": "markdown",
   "metadata": {},
   "source": [
    "### Importing modules"
   ]
  },
  {
   "cell_type": "code",
   "execution_count": null,
   "metadata": {},
   "outputs": [],
   "source": [
    "%matplotlib inline\n",
    "\n",
    "import os\n",
    "import tifffile as tiff\n",
    "from scipy import ndimage\n",
    "import glob\n",
    "import numpy as np\n",
    "import pandas as pd\n",
    "import sys"
   ]
  },
  {
   "cell_type": "code",
   "execution_count": null,
   "metadata": {},
   "outputs": [],
   "source": [
    "## Put the location of the 16-bit or 8-bit(following Fiji processing) images below; it will create new subfolders\n",
    "#with each channel name as the name, and split each channel into its equivalent folder \n",
    "\n",
    "data_locn = \"/Users/alexandrabaranowski/Desktop/Cells for pipeline analysis/5 Background Normalisation/Signalling/\"\n",
    "# it doesn't accept file names that have dots in them so changed the 3.25 & 0.5 to dashes \n",
    "# Make sure all file names with single digits are named 00, 01, etc otherwise they will be ordered wrong \n",
    "\n",
    "folders = False\n",
    "blur = 0\n",
    "channels = [0, 1,2,3]\n",
    "files_list = []\n",
    "tiff_list = []\n",
    "############################# generating file list ##############################\n",
    "\n",
    "if folders == True:  \n",
    "    files_list.append(glob.glob(data_locn+'*/*.tif'))\n",
    "else:\n",
    "    files_list.append(glob.glob(data_locn+'*tif'))\n",
    "    \n",
    "\n",
    "for i, v in enumerate(files_list[0]):\n",
    "    tiff_list.append(tiff.imread(v))"
   ]
  },
  {
   "cell_type": "code",
   "execution_count": null,
   "metadata": {},
   "outputs": [],
   "source": [
    "filenames = []\n",
    "# no blur here #\n",
    "for channel in channels:\n",
    "    #print channel\n",
    "    blurred_list = []\n",
    "    for i in tiff_list:\n",
    "        blurred_list.append(ndimage.gaussian_filter(i[channel], sigma=blur)) \n",
    "\n",
    "############################### saving the image ################################\n",
    "    \n",
    "    for i in files_list[0]:\n",
    "        base = os.path.basename(i)\n",
    "        base2 = os.path.splitext(base)[0]\n",
    "        filenames.append(os.path.splitext(base2)[0])\n",
    "    \n",
    "    if not os.path.exists(data_locn+'Ch' + str(channel) + '/'):\n",
    "        os.makedirs(data_locn+'Ch' + str(channel) + '/')\n",
    "    \n",
    "    for i,v in enumerate(blurred_list):\n",
    "        tiff.imsave(data_locn+'Ch' + str(channel) + '/' +str(filenames[i]) + 'ch_' + str(channel) + ' .tif', v) "
   ]
  }
 ],
 "metadata": {
  "kernelspec": {
   "display_name": "Python 2",
   "language": "python",
   "name": "python2"
  },
  "language_info": {
   "codemirror_mode": {
    "name": "ipython",
    "version": 2
   },
   "file_extension": ".py",
   "mimetype": "text/x-python",
   "name": "python",
   "nbconvert_exporter": "python",
   "pygments_lexer": "ipython2",
   "version": "2.7.15"
  }
 },
 "nbformat": 4,
 "nbformat_minor": 1
}
